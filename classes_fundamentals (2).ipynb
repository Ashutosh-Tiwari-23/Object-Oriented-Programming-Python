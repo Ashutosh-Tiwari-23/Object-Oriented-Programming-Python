{
  "nbformat": 4,
  "nbformat_minor": 0,
  "metadata": {
    "colab": {
      "provenance": []
    },
    "kernelspec": {
      "name": "python3",
      "display_name": "Python 3"
    },
    "language_info": {
      "name": "python"
    }
  },
  "cells": [
    {
      "cell_type": "code",
      "execution_count": 1,
      "metadata": {
        "colab": {
          "base_uri": "https://localhost:8080/"
        },
        "id": "c2ruVep66TYu",
        "outputId": "de95bd0f-ce3f-4543-c85d-3ed84c46fd0a"
      },
      "outputs": [
        {
          "output_type": "stream",
          "name": "stdout",
          "text": [
            "-1.0\n"
          ]
        }
      ],
      "source": [
        "import math\n",
        "print(math.cos(math.pi))"
      ]
    },
    {
      "cell_type": "code",
      "source": [
        "nums = set([1,1,2,2,3,3,3,4])\n",
        "print(len(nums))"
      ],
      "metadata": {
        "colab": {
          "base_uri": "https://localhost:8080/"
        },
        "id": "AhzGhKuh6fPC",
        "outputId": "23bdadda-d026-4cfd-b999-ab2585ba9295"
      },
      "execution_count": 2,
      "outputs": [
        {
          "output_type": "stream",
          "name": "stdout",
          "text": [
            "4\n"
          ]
        }
      ]
    },
    {
      "cell_type": "code",
      "source": [
        "a = [1,2,3]\n",
        "b = a\n",
        "print(id(a))\n",
        "print(id(b))\n",
        "a == b\n",
        "\n",
        "a is b"
      ],
      "metadata": {
        "colab": {
          "base_uri": "https://localhost:8080/"
        },
        "id": "PvFS9m226zVD",
        "outputId": "c1c54b3d-670c-41d9-f658-9acc9b47aa08"
      },
      "execution_count": 9,
      "outputs": [
        {
          "output_type": "stream",
          "name": "stdout",
          "text": [
            "139141733940800\n",
            "139141733940800\n"
          ]
        },
        {
          "output_type": "execute_result",
          "data": {
            "text/plain": [
              "True"
            ]
          },
          "metadata": {},
          "execution_count": 9
        }
      ]
    },
    {
      "cell_type": "code",
      "source": [
        "b = a[:]\n",
        "print(id(a))\n",
        "print(id(b))\n",
        "a == b\n",
        "\n",
        "a is b"
      ],
      "metadata": {
        "colab": {
          "base_uri": "https://localhost:8080/"
        },
        "id": "yqYiVe827L3i",
        "outputId": "da737575-eaf5-4dc5-9488-a4a45ae7cd0b"
      },
      "execution_count": 11,
      "outputs": [
        {
          "output_type": "stream",
          "name": "stdout",
          "text": [
            "139141733940800\n",
            "139141734040448\n"
          ]
        },
        {
          "output_type": "execute_result",
          "data": {
            "text/plain": [
              "False"
            ]
          },
          "metadata": {},
          "execution_count": 11
        }
      ]
    },
    {
      "cell_type": "code",
      "source": [
        "for integer in (-1,3,5):\n",
        "    if integer <0:\n",
        "      print(\"-ve\")\n",
        "    else:\n",
        "      print(\"pos\")"
      ],
      "metadata": {
        "colab": {
          "base_uri": "https://localhost:8080/"
        },
        "id": "TWU29zsz7Q9B",
        "outputId": "8e63e432-731a-499f-affd-ed7b632ee94d"
      },
      "execution_count": 12,
      "outputs": [
        {
          "output_type": "stream",
          "name": "stdout",
          "text": [
            "-ve\n",
            "pos\n",
            "pos\n"
          ]
        }
      ]
    },
    {
      "cell_type": "markdown",
      "source": [
        "Week 1\n",
        "\n",
        "Object Oriented Programming\n"
      ],
      "metadata": {
        "id": "eyXocb8O-bnA"
      }
    },
    {
      "cell_type": "code",
      "source": [
        "import numpy as np\n",
        "\n",
        "x = np.array([1,2,3,4,5])\n",
        "y = np.array([5,4,3,2,1])\n",
        "print(x+y)\n",
        "\n",
        "print(x.mean())\n",
        "\n",
        "print(x.std())"
      ],
      "metadata": {
        "colab": {
          "base_uri": "https://localhost:8080/"
        },
        "id": "K7HAGqxb9iTR",
        "outputId": "41b92981-ee27-43e6-c4ab-6fdd0d86ac01"
      },
      "execution_count": 3,
      "outputs": [
        {
          "output_type": "stream",
          "name": "stdout",
          "text": [
            "[6 6 6 6 6]\n",
            "3.0\n",
            "1.4142135623730951\n"
          ]
        }
      ]
    },
    {
      "cell_type": "code",
      "source": [
        "# PEP8\n",
        "# https://www.python.org/dev/peps/pep-0008/\n",
        "# pep = python enhancement proposal\n"
      ],
      "metadata": {
        "id": "yeoixLqn8su6"
      },
      "execution_count": 4,
      "outputs": []
    },
    {
      "cell_type": "code",
      "source": [
        "class University:\n",
        "  def __init__(self):\n",
        "    self.name = \" \"\n",
        "    self.address = \"\"\n",
        "\n",
        "'''\n",
        "1) Class is a blueprint that represents a type of object.\n",
        "2) even the simpleset class has state and behaviour\n",
        "3) calling the class creates instances of that class\n",
        "\n",
        "'''"
      ],
      "metadata": {
        "colab": {
          "base_uri": "https://localhost:8080/",
          "height": 35
        },
        "id": "RdcYXIiW96Tn",
        "outputId": "10eba0e8-427f-42fe-d392-d08bc60a6e2c"
      },
      "execution_count": 8,
      "outputs": [
        {
          "output_type": "execute_result",
          "data": {
            "text/plain": [
              "' \\n1) Class is a blueprint that represents a type of object.\\n2) even the simpleset class has state and behaviour\\n3) calling the class creates instances of that class\\n\\n'"
            ],
            "application/vnd.google.colaboratory.intrinsic+json": {
              "type": "string"
            }
          },
          "metadata": {},
          "execution_count": 8
        }
      ]
    },
    {
      "cell_type": "code",
      "source": [
        "type(University.__bases__)"
      ],
      "metadata": {
        "colab": {
          "base_uri": "https://localhost:8080/"
        },
        "id": "K0v6hnqA-O0P",
        "outputId": "e21e9493-df41-47a3-868a-9733f88f45dc"
      },
      "execution_count": 6,
      "outputs": [
        {
          "output_type": "execute_result",
          "data": {
            "text/plain": [
              "tuple"
            ]
          },
          "metadata": {},
          "execution_count": 6
        }
      ]
    },
    {
      "cell_type": "code",
      "source": [
        "class Vehicle:\n",
        "  doors = 2\n",
        "  wheels = 4\n",
        "\n",
        "'''\n",
        "We traditionally define class state in the class definition.\n",
        "Class state is stored in a mappingproxy object and is retrieved using the __dict__ attribute.{ dunder dict}\n",
        "Class state is shared and accessible by all instances of the class.\n",
        "'''"
      ],
      "metadata": {
        "colab": {
          "base_uri": "https://localhost:8080/",
          "height": 53
        },
        "id": "vrRLyNRd-TUL",
        "outputId": "2aaea6fc-f0b1-49e8-8628-a2daacc8c74a"
      },
      "execution_count": 18,
      "outputs": [
        {
          "output_type": "execute_result",
          "data": {
            "text/plain": [
              "' \\nWe traditionally define class state in the class definition. \\nClass state is stored in a mappingproxy object and is retrieved using the __dict__ attribute.{ dunder dict}\\nClass state is shared and accessible by all instances of the class.\\n'"
            ],
            "application/vnd.google.colaboratory.intrinsic+json": {
              "type": "string"
            }
          },
          "metadata": {},
          "execution_count": 18
        }
      ]
    },
    {
      "cell_type": "code",
      "source": [
        "Vehicle.__dict__"
      ],
      "metadata": {
        "colab": {
          "base_uri": "https://localhost:8080/"
        },
        "id": "2CTCbdrU_Ova",
        "outputId": "a610bf24-3db2-43de-d5f1-8c40b9080e3a"
      },
      "execution_count": 16,
      "outputs": [
        {
          "output_type": "execute_result",
          "data": {
            "text/plain": [
              "mappingproxy({'__module__': '__main__',\n",
              "              'doors': 2,\n",
              "              'wheels': 4,\n",
              "              '__dict__': <attribute '__dict__' of 'Vehicle' objects>,\n",
              "              '__weakref__': <attribute '__weakref__' of 'Vehicle' objects>,\n",
              "              '__doc__': None})"
            ]
          },
          "metadata": {},
          "execution_count": 16
        }
      ]
    },
    {
      "cell_type": "code",
      "source": [
        "Vehicle.model = \"Mercedes\"\n",
        "Vehicle.__dict__"
      ],
      "metadata": {
        "colab": {
          "base_uri": "https://localhost:8080/"
        },
        "id": "vD2JPq6g_VWQ",
        "outputId": "a7a6e893-ba95-475e-fd05-6a2e687b62be"
      },
      "execution_count": 17,
      "outputs": [
        {
          "output_type": "execute_result",
          "data": {
            "text/plain": [
              "mappingproxy({'__module__': '__main__',\n",
              "              'doors': 2,\n",
              "              'wheels': 4,\n",
              "              '__dict__': <attribute '__dict__' of 'Vehicle' objects>,\n",
              "              '__weakref__': <attribute '__weakref__' of 'Vehicle' objects>,\n",
              "              '__doc__': None,\n",
              "              'model': 'Mercedes'})"
            ]
          },
          "metadata": {},
          "execution_count": 17
        }
      ]
    },
    {
      "cell_type": "code",
      "source": [
        "R = Vehicle()\n",
        "print(R.model)"
      ],
      "metadata": {
        "colab": {
          "base_uri": "https://localhost:8080/"
        },
        "id": "z-EyU3YNAfKK",
        "outputId": "53f518e6-6fc0-4316-93e2-864b4b9f109f"
      },
      "execution_count": 14,
      "outputs": [
        {
          "output_type": "stream",
          "name": "stdout",
          "text": [
            "Mercedes\n"
          ]
        }
      ]
    },
    {
      "cell_type": "code",
      "source": [
        " # adding behaviour in class\n",
        "class Car:\n",
        "\n",
        "  # class method\n",
        "  def model():\n",
        "    print(\"This is Car class\")\n",
        "  def drive(self):\n",
        "    print(\"Car is being driven\")\n",
        "\n",
        "\n",
        "  # Instance method\n",
        "  # Instance method always takes self as a parameter\n",
        "\n",
        "  def noAction(self):\n",
        "    return self\n",
        "  def park(self):\n",
        "    print(\"Car is being parked\")\n",
        "\n",
        "  def stop(self):\n",
        "    print(\"Car is being stopped\")\n",
        "\n",
        "c1 = Car()\n",
        "Car.model()\n",
        "\n",
        "#c1.noAction()\n",
        "\n",
        "print(c1.noAction())\n",
        "\n",
        "'''\n",
        "A method is simply a function that is bound to a very specific instance of a class.\n",
        "\n",
        "'''\n",
        "\n",
        "# We add behaviour to our classes by defining functions\n",
        "# these functions are special in that they have at least one parameter\n",
        "# that parameter is by convention called as self\n",
        "# when functions are defined within the body of the class, they become bound to instance of that class and then they are called methods.\n"
      ],
      "metadata": {
        "colab": {
          "base_uri": "https://localhost:8080/",
          "height": 70
        },
        "id": "AWs8VegpAxPE",
        "outputId": "086c3584-84f6-41c0-ca9d-2ff8d469453b"
      },
      "execution_count": 30,
      "outputs": [
        {
          "output_type": "stream",
          "name": "stdout",
          "text": [
            "This is Car class\n",
            "<__main__.Car object at 0x78543a4ea7d0>\n"
          ]
        },
        {
          "output_type": "execute_result",
          "data": {
            "text/plain": [
              "' \\nA method is simply a function that is bound to a very specific instance of a class.\\n\\n'"
            ],
            "application/vnd.google.colaboratory.intrinsic+json": {
              "type": "string"
            }
          },
          "metadata": {},
          "execution_count": 30
        }
      ]
    },
    {
      "cell_type": "code",
      "source": [
        "type(Car.model)"
      ],
      "metadata": {
        "colab": {
          "base_uri": "https://localhost:8080/"
        },
        "id": "0S8zZnqnB_iD",
        "outputId": "584950ff-4c4e-4cf3-8950-c6555add5974"
      },
      "execution_count": 28,
      "outputs": [
        {
          "output_type": "execute_result",
          "data": {
            "text/plain": [
              "function"
            ]
          },
          "metadata": {},
          "execution_count": 28
        }
      ]
    },
    {
      "cell_type": "code",
      "source": [
        "# Instance attributes\n",
        "class Dog:\n",
        "    def __init__(self, name, age, breed=None):\n",
        "        self.name = name\n",
        "        self.age = age\n",
        "        self.breed = breed\n",
        "\n",
        "    def bark(self):\n",
        "        print(\"Woof!\")\n",
        "\n",
        "    def get_name(self):\n",
        "        return self.name\n",
        "\n",
        "    def get_age(self):\n",
        "        return self.age\n",
        "\n",
        "    def set_age(self, age):\n",
        "        self.age = age\n",
        "\n",
        "    def set_name(self, name):\n",
        "        self.name = name\n",
        "\n",
        "    def set_breed(self, breed):\n",
        "        self.breed = breed\n",
        "\n",
        "    def get_breed(self):\n",
        "        return self.breed\n",
        "\n",
        "\n",
        "Dog1 = Dog(\"German Sepherd\", 12, \"German Sepherd\")\n",
        "\n",
        "print(Dog1.get_name())\n",
        "print(Dog1.get_age())\n",
        "print(Dog1.get_breed())\n",
        "\n",
        "# function with __functionName__ , this naming convention  is reserved for methods that implement special behaviour\n",
        "# This special functions are called as Dunder or Dundee methods\n",
        "\n",
        "# attributes are simply variable swith objects\n",
        "# instance attributes could be set before or after the instance object is returned\n",
        "# that's said, it's a best practice to set them in  __init__ , a special method which exists specifically for this purpose"
      ],
      "metadata": {
        "colab": {
          "base_uri": "https://localhost:8080/"
        },
        "id": "NekZJi2dDWvP",
        "outputId": "d18b3deb-6840-4ae9-eea3-828b341363d9"
      },
      "execution_count": 32,
      "outputs": [
        {
          "output_type": "stream",
          "name": "stdout",
          "text": [
            "German Sepherd\n",
            "12\n",
            "German Sepherd\n"
          ]
        }
      ]
    },
    {
      "cell_type": "code",
      "source": [
        "# Another way to access named object attributes is to use getattr built in, which is a standard library in Python\n",
        "# getattr()\n",
        "\n",
        "getattr(Dog1, 'name')\n",
        "\n",
        "\n",
        "\n",
        "getattr(Dog1, 'age')\n",
        "\n",
        "# to set object attribute\n",
        "setattr(Dog1, 'age', 10)\n",
        "print(Dog1.age)\n",
        "\n",
        "Dog2 = Dog(\"Bruno\", 14, \"Labrador\")\n",
        "\n",
        "objs = [Dog1, Dog2]\n",
        "\n",
        "for obj in objs:\n",
        "    print(obj.name, obj.age)\n",
        "\n",
        "attribs = [\"name\", \"age\"]\n",
        "\n",
        "values = [\"Tommy\", 10]\n",
        "\n",
        "for obj in objs:\n",
        "    for attrib, value in zip(attribs, values):\n",
        "        setattr(obj, attrib, value)\n",
        "\n",
        "for obj in objs:\n",
        "    print(obj.name, obj.age)  # setting the object name and object address to multiple objects in one go"
      ],
      "metadata": {
        "colab": {
          "base_uri": "https://localhost:8080/"
        },
        "id": "xfmMl4PgFpc2",
        "outputId": "45a709e2-bab1-4601-f8ce-ac4818f066b0"
      },
      "execution_count": 40,
      "outputs": [
        {
          "output_type": "stream",
          "name": "stdout",
          "text": [
            "10\n",
            "Tommy 10\n",
            "Bruno 14\n",
            "Tommy 10\n",
            "Tommy 10\n"
          ]
        }
      ]
    },
    {
      "cell_type": "code",
      "source": [
        " # in addition to the traditional dot access syntax, attributes could also be read and set using getattr(), setattr() builtins\n",
        " # these methods are most useful if we are manipulating objects programmatically and especially if we are doing so at scale.\n",
        "\n",
        "\n",
        " # self\n",
        " # self is  always the first argument passed to instance methods\n",
        " # it represents the instance object bound to the method\n",
        " # it is called self by (good) convention only, and self is neither a reserved keyword nor does it have any special meaning in python\n",
        "\n",
        ""
      ],
      "metadata": {
        "id": "0fAn6nC3GyyD"
      },
      "execution_count": 42,
      "outputs": []
    },
    {
      "cell_type": "code",
      "source": [
        "# Define a Student class , class attributes - educational_platform, instance attributes - name, age\n",
        "# define greet()\n",
        "\n",
        "class Student:\n",
        "    educational_platform = \"Google\"\n",
        "\n",
        "    def __init__(self, name, age):\n",
        "        self.name = name\n",
        "        self.age = age\n",
        "\n",
        "    @classmethod\n",
        "    def set_educational_platform(cls, educational_platform):\n",
        "        cls.educational_platform = educational_platform\n",
        "\n",
        "    @staticmethod\n",
        "    def greet():\n",
        "      return \"Good morning\"\n",
        "\n",
        "\n",
        "\n",
        "S1 = Student(\"Tom\", 20)\n",
        "print(Student.greet())\n",
        "print(S1.greet())\n",
        "S2 = Student(\"Bob\", 22)\n",
        "S2.greet()\n",
        "\n",
        "\n",
        "Student.set_educational_platform(\"Coursera\")\n",
        "print(Student.educational_platform)\n",
        "\n",
        "S1.set_educational_platform(\"Udemy\")\n",
        "print(S1.educational_platform)\n",
        "print(S2.educational_platform)\n",
        "\n",
        "\n",
        "\n",
        "\n",
        "# Static method : can be called by any , either by class or instance.\n",
        "# Static method are just like normal function which can have parameter or no parameter\n",
        "# they are decorated by @staticmethod decorator\n",
        "\n",
        "\n",
        "# Class Method\n",
        "# class method can also be called by either, instance or the class\n",
        "# class method is defined under decorator @classsmethod, cls is the parameter passed like in instance method we pass self\n",
        "\n",
        "\n",
        "# The key difference between the two { class method and static method is that class methods automatically recieve the class as the first implicit argument}\n",
        "# and so the class methods could access and modify the class, state or the behaviour on the fly\n",
        "# so this could be used to manipulate behaviour of the class at the run time\n",
        "# and static methods are regular functions but they happen to live wihin the namespace of the class, so they're kind of bundled together with the class.\n",
        "\n",
        "# Summary\n",
        "# In addition to instance methods, python has static and class methods.\n",
        "# in class methods, the class is implicitly passed as the first argument, whereas in the static methods, neither the instance object nor the class is passed\n",
        "# static methods are like regular functions because they're somehoe conceptually related to the class\n",
        "\n"
      ],
      "metadata": {
        "colab": {
          "base_uri": "https://localhost:8080/"
        },
        "id": "xG0exrrKRhHo",
        "outputId": "5aefcf05-341d-496b-badd-e7e9a2e1fb7a"
      },
      "execution_count": 59,
      "outputs": [
        {
          "output_type": "stream",
          "name": "stdout",
          "text": [
            "Good morning\n",
            "Good morning\n",
            "Coursera\n",
            "Udemy\n",
            "Udemy\n"
          ]
        }
      ]
    },
    {
      "cell_type": "code",
      "source": [
        "S1.__dict__\n",
        "\n",
        "\n",
        "\n",
        "# we can also add attributes and it's values using __dict__\n",
        "# __dict__ is like a dictionary of python\n",
        "S1.__dict__['gender'] = \"Male\"\n",
        "S1.__dict__\n",
        "\n",
        "\n",
        "# Summary\n",
        "# all the instance attributes are stored in an instance - specific mapping dictionary\n",
        "# for instances, that mapping object is a plain python dictionary\n",
        "# it is accessed using instance.__dict__ syntax"
      ],
      "metadata": {
        "colab": {
          "base_uri": "https://localhost:8080/"
        },
        "id": "kxqH9wdGc1rL",
        "outputId": "3dd9f209-13f7-41a9-dfa6-db8c369a6b49"
      },
      "execution_count": 67,
      "outputs": [
        {
          "output_type": "execute_result",
          "data": {
            "text/plain": [
              "{'name': 'Tom', 'age': 20, 'gender': 'Male'}"
            ]
          },
          "metadata": {},
          "execution_count": 67
        }
      ]
    },
    {
      "cell_type": "code",
      "source": [
        "\n",
        "\n",
        "S2.__dict__[\"address\"] = \"New Delhi\"\n",
        "\n",
        "print(S2.__dict__)\n",
        "\n",
        "print(type(S2))\n",
        "\n",
        "Student.__dict__\n",
        "\n",
        "\n",
        "# just as instance states and it's values are stored in a plain dictionary which can be accessed by __dict__\n",
        "# class info can be accessed using __dict__\n",
        "# However, for class.__dict__ , the resulting object is not a plain dictionary,\n",
        "# it's a mapping proxy\n",
        "# Mapping proxy is a read only dictionary like mapping object that ensures that the lookup keys are alays strings ( reason - MRO method resolution )\n",
        "# MRO - method resolution order\n",
        "# dunder dict and weakref are descriptors.\n",
        "\n",
        "\n",
        "\n",
        "# Behind the scenes action for instance.__dict__\n",
        "# When instance.__dict__  is called, then python does the attribute lookup\n",
        "# python checks the instance namespace for __dict attribute\n",
        "# since python is not able to find the __dict attribute, then it looks in class of the instance\n",
        "# in the class namespace , python finds the __dict attribute,\n",
        "# the attribute __dict in class points to a decriptor\n",
        "# the descriptors get() is called\n",
        "# which returns a dictionary\n",
        "# this is how instance.__dict__ returns a plain dictionary\n",
        "\n",
        "# so the descriptors in the class namespace are mostly there to enable instance specific funtionality"
      ],
      "metadata": {
        "colab": {
          "base_uri": "https://localhost:8080/"
        },
        "id": "IndzoBnSdVi8",
        "outputId": "b8e27664-03ec-4bab-e82c-e922b6a6adfb"
      },
      "execution_count": 76,
      "outputs": [
        {
          "output_type": "stream",
          "name": "stdout",
          "text": [
            "{'name': 'Bob', 'age': 22, 'address': 'New Delhi'}\n",
            "<class '__main__.Student'>\n"
          ]
        },
        {
          "output_type": "execute_result",
          "data": {
            "text/plain": [
              "mappingproxy({'__module__': '__main__',\n",
              "              'educational_platform': 'Google',\n",
              "              '__init__': <function __main__.Student.__init__(self, name, age)>,\n",
              "              'set_educational_platform': <function __main__.Student.set_educational_platform(cls, educational_platform)>,\n",
              "              'greet': <function __main__.Student.greet()>,\n",
              "              'clsmethod': <classmethod(<function Student.set_educational_platform at 0x7854078a3b50>)>,\n",
              "              'staticMethod': <staticmethod(<function Student.greet at 0x7854078a23b0>)>,\n",
              "              '__dict__': <attribute '__dict__' of 'Student' objects>,\n",
              "              '__weakref__': <attribute '__weakref__' of 'Student' objects>,\n",
              "              '__doc__': None,\n",
              "              '__annotations__': {}})"
            ]
          },
          "metadata": {},
          "execution_count": 76
        }
      ]
    },
    {
      "cell_type": "code",
      "source": [
        "# summary\n",
        "# just like isntances, classes have their own attribute namespace\n",
        "# just as for instances, it too is accessed using __dict__\n",
        "# unlike instances, however, the class __dict__ is a mapping proxy, which is a more restricted type if read only dictionary where all the keys are strings\n",
        "#the class __dict__ contains all the instance, class, and static methods we define in addition to the class variables\n",
        "# it also contains some decriptors and other class  dunders\n",
        "\n",
        "\n",
        "\n",
        "# Access control\n",
        "# in python , attributes are by default public, so there's no access control in the classical sense.\n",
        "# so, getters and setters should not be defined until there's a solid reason to do\n",
        "# this is not a bug/missing feature in python. it's a language design decision that aligns with Uniform access principle and it's something that gives python a much more expressive syntax\n",
        "# no loss of functionality either, because specific logic around getting, setting or deleting attributes could be implemented through properties while maintaining exactly the same syntax"
      ],
      "metadata": {
        "id": "V3wBcjXOd1E0"
      },
      "execution_count": 78,
      "outputs": []
    },
    {
      "cell_type": "markdown",
      "source": [
        "Docstrings\n",
        "\n",
        "If the first statement of body of the class is string, then Python considers it as Docstrings"
      ],
      "metadata": {
        "id": "MDw5PcPsmhpd"
      }
    },
    {
      "cell_type": "code",
      "source": [
        "class University:\n",
        "  \"\"\" This is the University class.\n",
        "      : This class lay out the blue print of a university.\n",
        "      : associated colleges, departments, etc.\n",
        "  \"\"\"\n",
        "  def __init__(self):\n",
        "      pass\n",
        "\n",
        "\n",
        "# e.g. of docstrings\n",
        "# python docstrings are strings written as the first statement of the class, function or module\n",
        "# the python compiler binds them to the __doc__ attribute of the object, and they are also reflected in help()\n",
        "# there are several alternative styles for writing docstrings in python\n",
        "# docstrings are quite different from comments.\n",
        "# example of docstrings standards : PEP 257\n"
      ],
      "metadata": {
        "id": "XqLnrSZcmmvX"
      },
      "execution_count": 84,
      "outputs": []
    },
    {
      "cell_type": "code",
      "source": [
        "\n"
      ],
      "metadata": {
        "id": "E2QS3Z9Ymy25"
      },
      "execution_count": null,
      "outputs": []
    }
  ]
}